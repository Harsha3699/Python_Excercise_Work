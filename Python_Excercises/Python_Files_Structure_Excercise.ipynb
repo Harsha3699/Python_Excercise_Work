{
 "cells": [
  {
   "cell_type": "markdown",
   "id": "e3ba7a9a",
   "metadata": {},
   "source": [
    "1.Use python standard libraries to do the following (2 points)\n",
    "    1) Print the remainder when 18 is divided by 4\n",
    "    2) Print all the modes from the list [2,3,6,7,6,9,2]\n",
    "    3) Pick a random number from the list [5,6,3,7,2,8] and print it.\n",
    "    4) Print the tangent of π/4"
   ]
  },
  {
   "cell_type": "code",
   "execution_count": 6,
   "id": "33a8af4c",
   "metadata": {},
   "outputs": [
    {
     "name": "stdout",
     "output_type": "stream",
     "text": [
      "2\n"
     ]
    }
   ],
   "source": [
    "import math\n",
    "print(int(math.fmod(18,4)))"
   ]
  },
  {
   "cell_type": "code",
   "execution_count": 9,
   "id": "5e412a16",
   "metadata": {},
   "outputs": [
    {
     "name": "stdout",
     "output_type": "stream",
     "text": [
      "2\n"
     ]
    }
   ],
   "source": [
    "import statistics \n",
    "s=[2,3,6,7,6,9,2]\n",
    "print(statistics.mode(s))"
   ]
  },
  {
   "cell_type": "code",
   "execution_count": 8,
   "id": "5a9813e0",
   "metadata": {},
   "outputs": [
    {
     "name": "stdout",
     "output_type": "stream",
     "text": [
      "0.9999999999999999\n"
     ]
    }
   ],
   "source": [
    "import math\n",
    "print(math.tan(math.pi/4))"
   ]
  },
  {
   "cell_type": "markdown",
   "id": "5a203a58",
   "metadata": {},
   "source": [
    "2.Using list comprehension, create a list that contains the three-digit positive multiples of 4 up to 150. (2 points)"
   ]
  },
  {
   "cell_type": "code",
   "execution_count": 11,
   "id": "a95b59cc",
   "metadata": {},
   "outputs": [
    {
     "name": "stdout",
     "output_type": "stream",
     "text": [
      "[100, 104, 108, 112, 116, 120, 124, 128, 132, 136, 140, 144, 148]\n"
     ]
    }
   ],
   "source": [
    "m=[k for k in range(100,150) if k%4==0]\n",
    "print(m)"
   ]
  },
  {
   "cell_type": "markdown",
   "id": "6b880bf7",
   "metadata": {},
   "source": [
    "3.Using Python, read the paragraph in the text file and print the number of occurrences of 'yet'. Replace all the occurrences of 'yet' with 'but' and write the modified paragraph to a text file named 'corrected.txt'. (4 points)"
   ]
  },
  {
   "cell_type": "code",
   "execution_count": 28,
   "id": "b4358adf",
   "metadata": {},
   "outputs": [
    {
     "name": "stdout",
     "output_type": "stream",
     "text": [
      "no of occurences of 'yet':2\n"
     ]
    }
   ],
   "source": [
    "with open(r\"original.txt\",\"r\") as f1:\n",
    "    s=f1.read()\n",
    "    print(f\"no of occurences of 'yet':{s.count('yet')}\")\n",
    "    s=s.replace('yet','but')\n",
    "with open(r\"corrected.txt\",\"a\") as f2:\n",
    "    f2.write(s)"
   ]
  },
  {
   "cell_type": "markdown",
   "id": "99c3cd6f",
   "metadata": {},
   "source": [
    "4.Create a tuple with values - \"January\", 2, \"February\", 7, \"THREE\". For each element in the tuple, print its lowercase form if its a string, or print its log value if it is a number. (2 points)"
   ]
  },
  {
   "cell_type": "code",
   "execution_count": 23,
   "id": "47caf085",
   "metadata": {},
   "outputs": [
    {
     "name": "stdout",
     "output_type": "stream",
     "text": [
      "january\n",
      "0.6931471805599453\n",
      "february\n",
      "1.9459101490553132\n",
      "three\n"
     ]
    }
   ],
   "source": [
    "import math\n",
    "t=(\"January\",2,\"February\",7,\"THREE\")\n",
    "for e in t:\n",
    "    if str(e).isdigit():\n",
    "        print(math.log(e))\n",
    "    else:\n",
    "        print(str(e).lower())"
   ]
  },
  {
   "cell_type": "markdown",
   "id": "5bce5430",
   "metadata": {},
   "source": [
    "5.Write a python program to create the dictionary of courses and scores:- 'Biology': 55, 'Chemistry': 75, 'Physics':47, 'Geography':93 and do the following. (3 points)\n",
    "    1) Add \"History\": 100 to the dictionary\n",
    "    2) Change the value of Physics to 66\n",
    "    3) Print the mean of all the scores\n",
    "    4) Print all the course names."
   ]
  },
  {
   "cell_type": "code",
   "execution_count": 14,
   "id": "fd25b4c6",
   "metadata": {},
   "outputs": [
    {
     "name": "stdout",
     "output_type": "stream",
     "text": [
      "77.8\n",
      "dict_keys(['Biology', 'Chemistry', 'Physics', 'Geography', 'History'])\n"
     ]
    }
   ],
   "source": [
    "d={'Biology':55,'Chemistry':75,'Physics':47,'Geography':93}\n",
    "d[\"History\"]=100\n",
    "\n",
    "d['Physics']=66\n",
    "\n",
    "import statistics\n",
    "print(statistics.mean(d.values()))\n",
    "\n",
    "print(d.keys())"
   ]
  },
  {
   "cell_type": "markdown",
   "id": "7ff6f4ae",
   "metadata": {},
   "source": [
    "6.Create a list of words that start with the letter 's' from the string \"she sells seashells on the seashore\". (2 points)"
   ]
  },
  {
   "cell_type": "code",
   "execution_count": 3,
   "id": "f19a00d0",
   "metadata": {},
   "outputs": [
    {
     "name": "stdout",
     "output_type": "stream",
     "text": [
      "['she', 'sells', 'seashells', 'seashore']\n"
     ]
    }
   ],
   "source": [
    "h=\"she sells seashells on the seashore\"\n",
    "l=h.split()\n",
    "r=[i for i in l if i.startswith('s')]\n",
    "print(r)"
   ]
  },
  {
   "cell_type": "markdown",
   "id": "9b680a37",
   "metadata": {},
   "source": [
    "7.Create a list named list1 with values ['a', 'b', 'c']. Create another list2 with values ['a', 'b', 'c']. Print the object equality and value equality of list1 and list2. Create both shallow and deep copies of the list1. Find and print the object equality between list 1 and the shallow copy and between list 1 and the deep copy. (3 points)\n"
   ]
  },
  {
   "cell_type": "code",
   "execution_count": 2,
   "id": "997b5dfa",
   "metadata": {},
   "outputs": [
    {
     "name": "stdout",
     "output_type": "stream",
     "text": [
      "False\n",
      "True\n",
      "True\n",
      "False\n"
     ]
    }
   ],
   "source": [
    "list1=['a','b','c']\n",
    "list2=['a','b','c']\n",
    "print(list1 is list2)\n",
    "print(list1==list2)\n",
    "list1_s=list1\n",
    "list1_d=list1.copy()\n",
    "print(list1_s is list1)\n",
    "print(list1_d is list1)"
   ]
  },
  {
   "cell_type": "markdown",
   "id": "f3591a21",
   "metadata": {},
   "source": [
    "8.Write a function that takes a list as an input and returns a list of unique values and a list of all duplicates. Print the list of unique and duplicate values by calling the function with the list [2,3,4,2,6,5,3,2] (2 points)\n"
   ]
  },
  {
   "cell_type": "code",
   "execution_count": 22,
   "id": "86f00998",
   "metadata": {},
   "outputs": [
    {
     "name": "stdout",
     "output_type": "stream",
     "text": [
      "([2, 3, 4, 6, 5], [2, 3, 2])\n"
     ]
    }
   ],
   "source": [
    "def dup(lst):\n",
    "    u_list,d_list=[],[]\n",
    "    for x in lst:\n",
    "        if x not in u_list:\n",
    "            u_list.append(x)\n",
    "        else:\n",
    "            d_list.append(x)\n",
    "    return u_list,d_list\n",
    "print(dup([2,3,4,2,6,5,3,2]))"
   ]
  },
  {
   "cell_type": "code",
   "execution_count": null,
   "id": "d8faba70",
   "metadata": {},
   "outputs": [],
   "source": []
  }
 ],
 "metadata": {
  "kernelspec": {
   "display_name": "Python 3 (ipykernel)",
   "language": "python",
   "name": "python3"
  },
  "language_info": {
   "codemirror_mode": {
    "name": "ipython",
    "version": 3
   },
   "file_extension": ".py",
   "mimetype": "text/x-python",
   "name": "python",
   "nbconvert_exporter": "python",
   "pygments_lexer": "ipython3",
   "version": "3.10.6"
  }
 },
 "nbformat": 4,
 "nbformat_minor": 5
}
