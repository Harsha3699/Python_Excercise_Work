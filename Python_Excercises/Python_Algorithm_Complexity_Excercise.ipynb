{
 "cells": [
  {
   "cell_type": "markdown",
   "id": "f9836ece",
   "metadata": {},
   "source": [
    "1. Explain in your own words the following time complexities along with your own example codes in python. (6 Points)\n",
    "\n",
    "Constant time complexity\n",
    "Linear time complexity\n",
    "Exponential time complexity"
   ]
  },
  {
   "cell_type": "code",
   "execution_count": 2,
   "id": "78117560",
   "metadata": {},
   "outputs": [
    {
     "name": "stdout",
     "output_type": "stream",
     "text": [
      "29\n"
     ]
    }
   ],
   "source": [
    "#Constant Time Complexity-\n",
    "def sum_num(a,b):\n",
    "    d = a+b\n",
    "    print(d)\n",
    "    \n",
    "a= 10\n",
    "b= 19\n",
    "sum_num(a,b)\n",
    "# irrespective of the numbers we give as input it will take same time."
   ]
  },
  {
   "cell_type": "code",
   "execution_count": 7,
   "id": "e52c8960",
   "metadata": {},
   "outputs": [
    {
     "name": "stdout",
     "output_type": "stream",
     "text": [
      "4\n",
      "6\n",
      "0\n"
     ]
    }
   ],
   "source": [
    "#Linear Time Complexity\n",
    "def find_even(l):\n",
    "    for i in l:\n",
    "        if i%2==0:\n",
    "            print(i)\n",
    "        \n",
    "l=[1,3,4,3,6,7,89,0]\n",
    "find_even(l)\n",
    "# the time  taking depends on the size of the input i.e., time directly proportional to the size of the input."
   ]
  },
  {
   "cell_type": "code",
   "execution_count": 13,
   "id": "4e001b58",
   "metadata": {},
   "outputs": [],
   "source": [
    "# Exponential Time Complexity\n",
    "\n",
    "def fibonacci(n):\n",
    "    if n <=1:\n",
    "        return n\n",
    "    return Fibonacci(n-1) + Fibonacci(n-2)  #function calls itself\n",
    "\n",
    "# here the exponential constant will be 2, as we are calling the function two times with each input. it becomes 3, if we call the function three times.\n",
    "# so here the exponential is O(2^n) as we calling the function 2 times.\n",
    "# if we call the function three times in itself, then it will be O(3^n).\n"
   ]
  },
  {
   "cell_type": "markdown",
   "id": "3f72f00a",
   "metadata": {},
   "source": [
    "2.Write a search algorithm with O(n^2) time complexity, that searches for the number 6 in the list [ [1, 2], [3, 4], [5, 6] ] and prints \"Exists\" if the number 6 is found. (2 Points)"
   ]
  },
  {
   "cell_type": "code",
   "execution_count": 14,
   "id": "b359c0b6",
   "metadata": {},
   "outputs": [
    {
     "name": "stdout",
     "output_type": "stream",
     "text": [
      "Exists\n"
     ]
    }
   ],
   "source": [
    "def findelement(num_list,element):\n",
    "    for sub_list in num_list:\n",
    "        for ele in sub_list:\n",
    "            if ele == element:\n",
    "                print(\"Exists\")\n",
    "                break\n",
    "            \n",
    "num_list=[[1,2],[3,4],[5,6]]\n",
    "findelement(num_list,6)"
   ]
  },
  {
   "cell_type": "code",
   "execution_count": null,
   "id": "306781db",
   "metadata": {},
   "outputs": [],
   "source": [
    "\n"
   ]
  }
 ],
 "metadata": {
  "kernelspec": {
   "display_name": "Python 3 (ipykernel)",
   "language": "python",
   "name": "python3"
  },
  "language_info": {
   "codemirror_mode": {
    "name": "ipython",
    "version": 3
   },
   "file_extension": ".py",
   "mimetype": "text/x-python",
   "name": "python",
   "nbconvert_exporter": "python",
   "pygments_lexer": "ipython3",
   "version": "3.10.6"
  }
 },
 "nbformat": 4,
 "nbformat_minor": 5
}
