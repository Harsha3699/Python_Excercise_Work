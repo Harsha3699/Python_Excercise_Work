{
 "cells": [
  {
   "cell_type": "markdown",
   "id": "46eeb90e",
   "metadata": {},
   "source": [
    "1.Write a python function that calculates the perimeter of a rectangle. The function should take the length and width as arguments and return the calculated perimeter. Print the perimeter of the following rectangles using appropriate function calls with the following values. (2 points)\n",
    "a) Rectangle with length 5 and width 6.\n",
    "b) Rectangle with length 24 and width 7."
   ]
  },
  {
   "cell_type": "code",
   "execution_count": 2,
   "id": "8a2d3219",
   "metadata": {},
   "outputs": [
    {
     "name": "stdout",
     "output_type": "stream",
     "text": [
      "22\n",
      "62\n"
     ]
    }
   ],
   "source": [
    "def get_rectangle_perimeter(length,width):\n",
    "    return 2*(length+width)\n",
    "perimeter=get_rectangle_perimeter(5,6)\n",
    "print(perimeter)\n",
    "perimeter=get_rectangle_perimeter(24,7)\n",
    "print(perimeter)"
   ]
  },
  {
   "cell_type": "markdown",
   "id": "37631328",
   "metadata": {},
   "source": [
    "2.Write a python program to print even numbers between -60 and -20, and odd numbers between -15 and 30. (3 points)"
   ]
  },
  {
   "cell_type": "code",
   "execution_count": 8,
   "id": "01e4086e",
   "metadata": {},
   "outputs": [
    {
     "name": "stdout",
     "output_type": "stream",
     "text": [
      "[-60, -58, -56, -54, -52, -50, -48, -46, -44, -42, -40, -38, -36, -34, -32, -30, -28, -26, -24, -22]\n",
      "[-15, -13, -11, -9, -7, -5, -3, -1, 1, 3, 5, 7, 9, 11, 13, 15, 17, 19, 21, 23, 25, 27, 29]\n"
     ]
    }
   ],
   "source": [
    "even_number=[i for i in range (-60,-20) if i%2==0]\n",
    "print(even_number)\n",
    "odd_number=[k for k in range (-15,30) if k%2!=0]\n",
    "print(odd_number)"
   ]
  },
  {
   "cell_type": "markdown",
   "id": "af736239",
   "metadata": {},
   "source": [
    "3.Write a python program to output an integer that is divisible by 7 and is as close to 88 as possible using exhaustive enumeration. (3 points)"
   ]
  },
  {
   "cell_type": "code",
   "execution_count": 34,
   "id": "8b1faef8",
   "metadata": {},
   "outputs": [
    {
     "name": "stdout",
     "output_type": "stream",
     "text": [
      "91\n"
     ]
    }
   ],
   "source": [
    "x=7\n",
    "g=[i for i in range (88-x+1,88+x-1) if i%x==0]\n",
    "print(min(g,key=lambda x:abs(x-88)))"
   ]
  },
  {
   "cell_type": "markdown",
   "id": "78b42f74",
   "metadata": {},
   "source": [
    "4.Write a python program to calculate and print the total number of English vowels (a, e, i, o, u) in the string \"simultaneously\". (2 points)"
   ]
  },
  {
   "cell_type": "code",
   "execution_count": 14,
   "id": "3efb9b8b",
   "metadata": {},
   "outputs": [
    {
     "name": "stdout",
     "output_type": "stream",
     "text": [
      "6\n"
     ]
    }
   ],
   "source": [
    "s=\"simultaneously\"\n",
    "total_vowels=0\n",
    "for i in [\"a\",\"e\",\"i\",\"o\",\"u\"]:\n",
    "    total_vowels= total_vowels+s.count(i)\n",
    "print(total_vowels)"
   ]
  },
  {
   "cell_type": "markdown",
   "id": "6f175b81",
   "metadata": {},
   "source": [
    "5.Create a list with values:- 'Alabama', 'Arizona', 'New Jersey', 'Texas'. Create a tuple with values:- 'Iowa', 'Kansas' ,'Arizona', 'Tennessee'. (2 points)\n",
    " a) Find and print the first element of the list and the last element of the tuple\n",
    " b) Find and print the index of Arizona in both the list and tuple"
   ]
  },
  {
   "cell_type": "code",
   "execution_count": 17,
   "id": "5be145b7",
   "metadata": {
    "scrolled": true
   },
   "outputs": [
    {
     "name": "stdout",
     "output_type": "stream",
     "text": [
      "list first element:Alabama tuple last element:Tennessee\n",
      "list Arizona index:1\n",
      "list Arizona index:2\n"
     ]
    }
   ],
   "source": [
    "a=['Alabama','Arizona','New Jersey','Texas']\n",
    "b=('Iowa','Kansas','Arizona','Tennessee')\n",
    "print(f'list first element:{a[0]}',f'tuple last element:{b[-1]}')\n",
    "print(f\"list Arizona index:{a.index('Arizona')}\",f\"list Arizona index:{b.index('Arizona')}\",sep=\"\\n\")"
   ]
  },
  {
   "cell_type": "markdown",
   "id": "ac688c0a",
   "metadata": {},
   "source": [
    "6.Write a python program to print all positive divisors of the number 44. (2 points)"
   ]
  },
  {
   "cell_type": "code",
   "execution_count": 20,
   "id": "57590df3",
   "metadata": {},
   "outputs": [
    {
     "name": "stdout",
     "output_type": "stream",
     "text": [
      "1 2 4 11 22 44 "
     ]
    }
   ],
   "source": [
    "def printDivisors(n):\n",
    "    i=1\n",
    "    while i<=n:\n",
    "        if(n%i==0):\n",
    "            print(i,end=\" \")\n",
    "        i= i+1\n",
    "printDivisors(44)"
   ]
  },
  {
   "cell_type": "markdown",
   "id": "b30efcbf",
   "metadata": {},
   "source": [
    "7.Write a python program that identifies and prints the numbers from the string '145 K, North Central Street, Indiana'. (2 points)"
   ]
  },
  {
   "cell_type": "code",
   "execution_count": 25,
   "id": "39dbee90",
   "metadata": {},
   "outputs": [
    {
     "name": "stdout",
     "output_type": "stream",
     "text": [
      "145\n"
     ]
    }
   ],
   "source": [
    "import re\n",
    "s='145K, North Central Street, Indiana'\n",
    "print (*re.findall(\"\\d+\",s),sep=\",\")"
   ]
  },
  {
   "cell_type": "markdown",
   "id": "51075a20",
   "metadata": {},
   "source": [
    "8.A student Jeff has scored 12.77 out of 50 in Math, 66.35 out of 80 in Science, and 14.3 out of 20 in English. Find and print the percentage that Jeff scored in each subject and round the percentage to 2 decimal places. (2 points)"
   ]
  },
  {
   "cell_type": "code",
   "execution_count": null,
   "id": "8cf67fff",
   "metadata": {},
   "outputs": [],
   "source": [
    "Math_score=12.77\n",
    "Science_score=66.35\n",
    "English_score=14.3\n",
    "print(f'Math %:{(Math_score/50)*100:.2f}',f'Science %:{(Science_score/80)*100:.2f}',f'English %:{(Math_score/50)*100:.2f}')\n"
   ]
  },
  {
   "cell_type": "markdown",
   "id": "d78a9c3e",
   "metadata": {},
   "source": [
    "9.Write a python function that finds the sum of the first N integers using the formula, SUM = N(N+1)/2. Write another function that uses for loop to calculate the sum of the first N integers. Test your functions for N=10 and print whether the answers obtained from both approaches are the same or not. (2 points)"
   ]
  },
  {
   "cell_type": "code",
   "execution_count": 36,
   "id": "82096976",
   "metadata": {},
   "outputs": [
    {
     "name": "stdout",
     "output_type": "stream",
     "text": [
      "sum using loop 55\n",
      "sum using formula 55.0\n",
      "Same value\n"
     ]
    }
   ],
   "source": [
    "def sum_formula(N):\n",
    "    return (N*(N+1))/2\n",
    "\n",
    "def sum_loop(N):\n",
    "    sum_num =0\n",
    "    for i in range(1,N+1):\n",
    "        sum_num = sum_num +i\n",
    "    return sum_num\n",
    "    \n",
    "sumloop=sum_loop(10)\n",
    "sumformula=sum_formula(10)\n",
    "print(f'sum using loop {sumloop}', f'sum using formula {sumformula}',sep='\\n')\n",
    "if sumformula==sumloop:\n",
    "    print(\"Same value\")\n",
    "else:\n",
    "    print(\"Not same\")"
   ]
  }
 ],
 "metadata": {
  "kernelspec": {
   "display_name": "Python 3 (ipykernel)",
   "language": "python",
   "name": "python3"
  },
  "language_info": {
   "codemirror_mode": {
    "name": "ipython",
    "version": 3
   },
   "file_extension": ".py",
   "mimetype": "text/x-python",
   "name": "python",
   "nbconvert_exporter": "python",
   "pygments_lexer": "ipython3",
   "version": "3.10.4"
  }
 },
 "nbformat": 4,
 "nbformat_minor": 5
}
