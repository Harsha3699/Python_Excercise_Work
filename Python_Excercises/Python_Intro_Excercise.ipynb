{
 "cells": [
  {
   "cell_type": "markdown",
   "id": "4d72f235",
   "metadata": {},
   "source": [
    "Find the length of the below strings. Using string slicing, extract and print the substring 'Welcome' from string 1 and 'I 501' from string 2. (2 points)\n",
    "Welcome to Indianapolis\n",
    "Informatics I 501"
   ]
  },
  {
   "cell_type": "code",
   "execution_count": 1,
   "id": "67c9acb0",
   "metadata": {},
   "outputs": [
    {
     "name": "stdout",
     "output_type": "stream",
     "text": [
      "23\n",
      "17\n"
     ]
    }
   ],
   "source": [
    "print (len('Welcome to Indianapolis'))\n",
    "print (len('Informatics I 501'))"
   ]
  },
  {
   "cell_type": "code",
   "execution_count": 2,
   "id": "77336637",
   "metadata": {
    "scrolled": true
   },
   "outputs": [
    {
     "name": "stdout",
     "output_type": "stream",
     "text": [
      "Welcome\n",
      "I 501\n"
     ]
    }
   ],
   "source": [
    "str1=\"Welcome to Indianapolis\"\n",
    "str2=\"Informatics I 501\"\n",
    "print(str1[0:7])\n",
    "print(str2[12:17])"
   ]
  },
  {
   "cell_type": "markdown",
   "id": "4f002c29",
   "metadata": {},
   "source": [
    "Print the value and data type of variables name, height, weight, and city by taking these as input from the user and changing them to their appropriate data types."
   ]
  },
  {
   "cell_type": "code",
   "execution_count": 5,
   "id": "15be3cc4",
   "metadata": {},
   "outputs": [
    {
     "name": "stdout",
     "output_type": "stream",
     "text": [
      "Harsha\n",
      "182\n",
      "99\n",
      "Indianapolis\n",
      "Harsha <class 'str'>\n",
      "182 <class 'str'>\n",
      "99 <class 'str'>\n",
      "Indianapolis <class 'str'>\n"
     ]
    }
   ],
   "source": [
    "name=input()\n",
    "height=input()\n",
    "weight=input()\n",
    "city=input()\n",
    "print(name,type(name))\n",
    "print(height,type(height))\n",
    "print(weight,type(weight))\n",
    "print(city,type(city))"
   ]
  },
  {
   "cell_type": "code",
   "execution_count": 8,
   "id": "6df0599b",
   "metadata": {},
   "outputs": [
    {
     "name": "stdout",
     "output_type": "stream",
     "text": [
      "<class 'str'> <class 'int'> <class 'float'> <class 'str'>\n"
     ]
    }
   ],
   "source": [
    "height=int(height)\n",
    "weight=float(weight)\n",
    "print(type(name),type(height),type(weight),type(city))\n"
   ]
  },
  {
   "cell_type": "markdown",
   "id": "d3c082e3",
   "metadata": {},
   "source": [
    "Print the square and cube of the integers from 1 to 5 using a while loop."
   ]
  },
  {
   "cell_type": "code",
   "execution_count": 9,
   "id": "f0c0f555",
   "metadata": {},
   "outputs": [
    {
     "name": "stdout",
     "output_type": "stream",
     "text": [
      "1 1\n",
      "4 8\n",
      "9 27\n",
      "16 64\n",
      "25 125\n"
     ]
    }
   ],
   "source": [
    "i=1\n",
    "while i<6:\n",
    "    print(i**2,i**3)\n",
    "    i=i+1"
   ]
  },
  {
   "cell_type": "markdown",
   "id": "68db66c6",
   "metadata": {},
   "source": [
    "Take two floating-point numbers from the user and print the addition, subtraction, and multiplication of these two numbers."
   ]
  },
  {
   "cell_type": "code",
   "execution_count": 11,
   "id": "53fcc600",
   "metadata": {},
   "outputs": [
    {
     "name": "stdout",
     "output_type": "stream",
     "text": [
      "5.4\n",
      "3.6\n",
      "9.0,1.8000000000000003,19.44\n"
     ]
    }
   ],
   "source": [
    "x=float(input())\n",
    "z=float(input())\n",
    "print(x+z,x-z,x*z,sep=',')\n"
   ]
  },
  {
   "cell_type": "markdown",
   "id": "ddf57d17",
   "metadata": {},
   "source": [
    "Obtain the first name and last name from the user. Print the full name by concatenating the first and last names with an '-' in between them. Also, find the length of the full name."
   ]
  },
  {
   "cell_type": "code",
   "execution_count": 13,
   "id": "75a0a616",
   "metadata": {},
   "outputs": [
    {
     "name": "stdout",
     "output_type": "stream",
     "text": [
      "sriharsha\n",
      "sudalagunta\n",
      "sriharsha-sudalagunta\n",
      "21\n"
     ]
    }
   ],
   "source": [
    "fname=input()\n",
    "lname=input()\n",
    "fullname=fname+'-'+lname\n",
    "print(fullname)\n",
    "print(len(fullname))"
   ]
  },
  {
   "cell_type": "markdown",
   "id": "81441ea2",
   "metadata": {},
   "source": [
    "Print the data types of the following objects: \n",
    "\"float\"\n",
    "22+88.8\n",
    "60/3.0\n",
    "8+1.5j"
   ]
  },
  {
   "cell_type": "code",
   "execution_count": 14,
   "id": "42a5ffd6",
   "metadata": {},
   "outputs": [
    {
     "name": "stdout",
     "output_type": "stream",
     "text": [
      "<class 'str'>\n",
      "<class 'float'>\n",
      "<class 'float'>\n",
      "<class 'complex'>\n"
     ]
    }
   ],
   "source": [
    "print(type(\"float\"))\n",
    "print(type(22+88.8))\n",
    "print(type(60/3.0))\n",
    "print(type(8+1.5j))"
   ]
  },
  {
   "cell_type": "markdown",
   "id": "3f6019d0",
   "metadata": {},
   "source": [
    "Write a python program that obtains the age from the user and prints the following appropriate statement depending on the logic: (2 points)\n",
    "less than 14 years old ---> Not allowed to drive\n",
    "14 to 70 years old ----> Allowed to drive with a valid license\n",
    "greater than 70 years old ----> Needs driving evaluation to drive"
   ]
  },
  {
   "cell_type": "code",
   "execution_count": 19,
   "id": "3a6a6e3c",
   "metadata": {},
   "outputs": [
    {
     "name": "stdout",
     "output_type": "stream",
     "text": [
      "23\n",
      "Allowed to drive with a valid license\n"
     ]
    }
   ],
   "source": [
    "age=int(input())\n",
    "if age<14:\n",
    "    print(\"Not allowed to drive\")\n",
    "elif (age>14 and age<70):\n",
    "    print(\"Allowed to drive with a valid license\")\n",
    "else:\n",
    "    print(\"Needs driving evaluation to drive\")\n",
    "    "
   ]
  },
  {
   "cell_type": "code",
   "execution_count": null,
   "id": "02fbd8e8",
   "metadata": {},
   "outputs": [],
   "source": []
  }
 ],
 "metadata": {
  "kernelspec": {
   "display_name": "Python 3 (ipykernel)",
   "language": "python",
   "name": "python3"
  },
  "language_info": {
   "codemirror_mode": {
    "name": "ipython",
    "version": 3
   },
   "file_extension": ".py",
   "mimetype": "text/x-python",
   "name": "python",
   "nbconvert_exporter": "python",
   "pygments_lexer": "ipython3",
   "version": "3.10.4"
  }
 },
 "nbformat": 4,
 "nbformat_minor": 5
}
